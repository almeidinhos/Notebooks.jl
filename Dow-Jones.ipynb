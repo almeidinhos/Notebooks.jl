{
 "cells": [
  {
   "cell_type": "code",
   "execution_count": 76,
   "metadata": {
    "slideshow": {
     "slide_type": "-"
    }
   },
   "outputs": [
    {
     "data": {
      "text/html": [
       "<iframe src='https://asaragga.github.io/GRF.jl/' width=1000 height=275></iframe>\n",
       "    "
      ],
      "text/plain": [
       "HTML{String}(\"<iframe src='https://asaragga.github.io/GRF.jl/' width=1000 height=275></iframe>\\n    \")"
      ]
     },
     "execution_count": 76,
     "metadata": {},
     "output_type": "execute_result"
    }
   ],
   "source": [
    "HTML(\"\"\"\n",
    "<iframe src='https://asaragga.github.io/GRF.jl/' width=1000 height=275></iframe>\n",
    "    \"\"\")"
   ]
  },
  {
   "cell_type": "markdown",
   "metadata": {},
   "source": [
    "## 1. Instalar e Disponibilizar Aplicações Essenciais"
   ]
  },
  {
   "cell_type": "markdown",
   "metadata": {},
   "source": [
    "(Carregar em >|Run para, sucessivamente, ir executando as células do notebook)"
   ]
  },
  {
   "cell_type": "markdown",
   "metadata": {},
   "source": [
    "### 1.1 Instalar Aplicações Essenciais"
   ]
  },
  {
   "cell_type": "markdown",
   "metadata": {},
   "source": [
    "Utilização remota, e.g. Binder: \n",
    "\n",
    "  * Mantêr todos os # \n",
    "\n",
    "Se fôr a primeira utilização local deste notebook :\n",
    "  * Caso Julia Pro tenha sido instalada, apenas retirar os # na primeira e na segunda linha\n",
    "  * Caso contrário, retirar # em todas as linhas (ou apenas naquelas relativas a aplicações ainda não instaladas)"
   ]
  },
  {
   "cell_type": "code",
   "execution_count": null,
   "metadata": {},
   "outputs": [],
   "source": [
    "# import Pkg \n",
    "# Pkg.add(\"TimeSeries\")\n",
    "# Pkg.add(\"Distributions\")      \n",
    "# Pkg.add(\"StatsBase\")          \n",
    "# Pkg.add(\"HypothesisTests\")    \n",
    "# Pkg.add(\"StatsPlots\")         \n",
    "# Pkg.add(\"Interact\")           "
   ]
  },
  {
   "cell_type": "markdown",
   "metadata": {},
   "source": [
    "### 1.2 Disponibilizar Aplicações"
   ]
  },
  {
   "cell_type": "code",
   "execution_count": null,
   "metadata": {},
   "outputs": [],
   "source": [
    "using LinearAlgebra, Distributions, StatsBase, HypothesisTests, StatsPlots, Interact, TimeSeries"
   ]
  },
  {
   "cell_type": "markdown",
   "metadata": {},
   "source": [
    "## 2. Obter Dados"
   ]
  },
  {
   "cell_type": "code",
   "execution_count": null,
   "metadata": {
    "scrolled": false
   },
   "outputs": [],
   "source": [
    "VPortfolio = 74.6                                               \n",
    "cambio = 0.884680                                               # Câmbio USD/EUR no final do dia 2019-04-15\n",
    "dados = readtimearray(\"Dow-Jones.csv\")                          # Tabela com retornos diários"
   ]
  },
  {
   "cell_type": "markdown",
   "metadata": {},
   "source": [
    "Temos 33 colunas = ```:BT3m, :SP500, :MMM, :AXP, :AAPL, :BA, :CAT, :CVX, :CSCO, :KO, :DWDP, :XOM, :GS, :IBM, :INTC, :JNJ, :JPM,:MCD, :MRK, :MSFT, :NKE, :PFE, :PG, :HD, :TRV, :UTX, :UNH, :VZ, :V, :WBA, :WMT, :DIS, :USDEUR```"
   ]
  },
  {
   "cell_type": "markdown",
   "metadata": {},
   "source": [
    "Por conveniência, iremos guardar os nomes das colunas no vetor ```simbolos(33x1)``` "
   ]
  },
  {
   "cell_type": "code",
   "execution_count": null,
   "metadata": {},
   "outputs": [],
   "source": [
    "simbolos = colnames(dados);   "
   ]
  },
  {
   "cell_type": "markdown",
   "metadata": {},
   "source": [
    "Igualmente, iremos guardar as datas das observações no vetor imaginativamente chamado ```datas(1567x1)``` "
   ]
  },
  {
   "cell_type": "code",
   "execution_count": null,
   "metadata": {},
   "outputs": [],
   "source": [
    "datas = timestamp(dados);"
   ]
  },
  {
   "cell_type": "markdown",
   "metadata": {},
   "source": [
    "## 3. Visualizar Dados"
   ]
  },
  {
   "cell_type": "markdown",
   "metadata": {},
   "source": [
    "### 3.1 Séries Temporais de Retornos"
   ]
  },
  {
   "cell_type": "code",
   "execution_count": null,
   "metadata": {},
   "outputs": [],
   "source": [
    "plot(dados[:SP500])         "
   ]
  },
  {
   "cell_type": "code",
   "execution_count": null,
   "metadata": {},
   "outputs": [],
   "source": [
    "plot(plot(dados[:MMM]),plot(dados[:GS]),plot(dados[:MCD]),plot(dados[:DIS]))"
   ]
  },
  {
   "cell_type": "code",
   "execution_count": null,
   "metadata": {},
   "outputs": [],
   "source": [
    "plot(dados[:USDEUR])        # Variação percentual diária da taxa de câmbio USD/EUR "
   ]
  },
  {
   "cell_type": "markdown",
   "metadata": {},
   "source": [
    "### 3.2 Histogramas"
   ]
  },
  {
   "cell_type": "code",
   "execution_count": null,
   "metadata": {},
   "outputs": [],
   "source": [
    "R = values(dados)           # Transforma a Tabela dados(1567x33) na Matriz R(1567x33) equivalente "
   ]
  },
  {
   "cell_type": "markdown",
   "metadata": {},
   "source": [
    "  * ```R[:,j]``` seleciona todos os elementos da coluna ```j``` da matriz ```R```\n",
    "  * ```R[i,:]``` seleciona todos os elementos da linha ```i``` da matriz ```R```"
   ]
  },
  {
   "cell_type": "code",
   "execution_count": null,
   "metadata": {},
   "outputs": [],
   "source": [
    "plot(\n",
    "histogram(R[:, 2], nbins=100, title = \"S&P500\", xlabel = \"Retorno Diário S&P500\", legend = false),\n",
    "histogram(R[:,13], nbins=100, title = \"Goldman-Sachs\", xlabel = \"Retorno Diário Goldman-Sachs\", legend = false),\n",
    "histogram(R[:,18], nbins=100, title = \"McDonalds\", xlabel = \"Retorno Diário McDonalds\", legend = false),\n",
    "histogram(R[:,32], nbins=100, title = \"Disney\", xlabel = \"Retorno Diário Walt Disney\", legend = false))"
   ]
  },
  {
   "cell_type": "markdown",
   "metadata": {},
   "source": [
    "### 3.3 Dependência Linear: Correlações"
   ]
  },
  {
   "cell_type": "code",
   "execution_count": null,
   "metadata": {},
   "outputs": [],
   "source": [
    "plot(scatter(R[:,2],R[:, 3], title = \"3M vs S&P500\"          , markersize = 2, legend = false),\n",
    "     scatter(R[:,2],R[:,13], title = \"Goldman-Sachs vs S&P500\", markersize = 2, legend = false),\n",
    "     scatter(R[:,2],R[:,18], title = \"McDonalds vs S&P500\"    , markersize = 2, legend = false),\n",
    "     scatter(R[:,2],R[:,32], title = \"Walt Disney vs S&P500\"  , markersize = 2, legend = false))"
   ]
  },
  {
   "cell_type": "code",
   "execution_count": null,
   "metadata": {},
   "outputs": [],
   "source": [
    "println(\"correlação(3M,S&P500) = \"           , cor(R[:, 3],R[:,2]))  \n",
    "println(\"correlação(Goldman-Sachs,S&P500) = \", cor(R[:,13],R[:,2]))  \n",
    "println(\"correlação(McDonalds,S&P500) = \"    , cor(R[:,18],R[:,2]))  \n",
    "println(\"correlação(Disney, S&P500) = \"      , cor(R[:,32],R[:,2]))  "
   ]
  },
  {
   "cell_type": "code",
   "execution_count": null,
   "metadata": {},
   "outputs": [],
   "source": [
    "scatter(R[:,2],R[:,33], legend=false, markersize=2, title=\"USD/EUR vs. S&P 500\",xlabel=\"S&P500\",ylabel=\"USD/EUR\") "
   ]
  },
  {
   "cell_type": "code",
   "execution_count": null,
   "metadata": {},
   "outputs": [],
   "source": [
    "println(\"correlação(USD/EUR,S&P500)) = \", cor(R[:,33],R[:,2]))   "
   ]
  },
  {
   "cell_type": "markdown",
   "metadata": {},
   "source": [
    "## 4. Composição do Portfólio"
   ]
  },
  {
   "cell_type": "markdown",
   "metadata": {},
   "source": [
    "Definir matriz ```W(33x1)``` com os pesos no portfólio, sujeita às seguintes restrições:\n",
    "  * ```0 <= w_i <= 1```      ausência de short-selling e financiamento do portfólio por empréstimos \n",
    "  * ```0 <= w_BT3m  <= 0.05```    peso máximo aplicado em BTs = 5%\n",
    "  * ```0 <= w_SP500 <= 0.25```    peso máximo aplicado em instrumento replicador do S&P500 = 25%\n",
    "  * Nº de açôes > 10, sendo o peso mínimo investido em cada >= 2.5%\n",
    "  * ```sum(w_i) = 1```       todo o portfólio terá de ser aplicada em USD"
   ]
  },
  {
   "cell_type": "code",
   "execution_count": null,
   "metadata": {},
   "outputs": [],
   "source": [
    "W = zeros(33)   # Preencher W com zeros inicialmente (32 oportunidades de investimento + câmbio USD/EUR)\n",
    "W[1] = 0.0      #  0.0% investido em BTs (indice 1 de W)\n",
    "W[2] = 0.1      # 10.0% num investimento replicando S&P500 (indice 2 de W)\n",
    "\n",
    "for i = 3:32    # 90.0% remanescentes investidos em partes iguais pelas 30 ações do Down-Jones (indices 3-32 de W)\n",
    "    W[i] = 0.03\n",
    "end             # Notemos que W[33] = 0 "
   ]
  },
  {
   "cell_type": "code",
   "execution_count": null,
   "metadata": {},
   "outputs": [],
   "source": [
    "sum(W)          # A soma dos pesos w_i deverá ser um valor muito próximo ou igual a 1"
   ]
  },
  {
   "cell_type": "markdown",
   "metadata": {},
   "source": [
    "## 5. Simulação Histórica"
   ]
  },
  {
   "cell_type": "markdown",
   "metadata": {},
   "source": [
    "### 5.1 Simular Historicamente os Retornos do Portfolio Atual"
   ]
  },
  {
   "cell_type": "markdown",
   "metadata": {},
   "source": [
    "Simulação histórica dos retornos diários do portfolio: ```RP(1567x1) = R(1567x33) * W(33x1)```"
   ]
  },
  {
   "cell_type": "code",
   "execution_count": null,
   "metadata": {},
   "outputs": [],
   "source": [
    "RP = R * W      "
   ]
  },
  {
   "cell_type": "code",
   "execution_count": null,
   "metadata": {},
   "outputs": [],
   "source": [
    "histogram(RP, nbins=100, title = \"Portfólio\", xlabel = \"Retorno Diário\", legend = false)"
   ]
  },
  {
   "cell_type": "markdown",
   "metadata": {},
   "source": [
    "### 5.2 Cálculo do VaR: Abordagem Não-Paramétrica ($\\mathrm{np}$)"
   ]
  },
  {
   "cell_type": "markdown",
   "metadata": {},
   "source": [
    "$$\\mathrm{VaR} = Z_\\alpha V_p$$ onde $$Z_\\alpha$$ é o $\\alpha$-quantil da **Distribuição Empírica** dos retornos obtidos por simulação histórica. A função ```quantile(X,alfa)``` calcula o ```alfa```-quantil de ```X```."
   ]
  },
  {
   "cell_type": "code",
   "execution_count": null,
   "metadata": {},
   "outputs": [],
   "source": [
    "println(\"DEaR(5%) simulação histórica não paramétrica = \", - quantile(RP,0.05) * VPortfolio, \" USD 1x10^6\")\n",
    "println(\"DEaR(1%) simulação histórica não paramétrica = \", - quantile(RP,0.01) * VPortfolio, \" USD 1x10^6\")"
   ]
  },
  {
   "cell_type": "markdown",
   "metadata": {},
   "source": [
    "### 5.3 Cálculo do VaR: Abordagem Semi-Paramétrica ($\\mathrm{sp}$)"
   ]
  },
  {
   "cell_type": "markdown",
   "metadata": {},
   "source": [
    "$$\\text{VaR}_\\alpha = - Z_\\alpha V_p$$ com $$Z_\\alpha = z_\\alpha \\sigma_p $$ onde o $\\alpha$-quantil da distribuição empírica $Z_\\alpha$ é agora determinado pelo produto de dois componemtes: ($\\textrm{i}$) quantil $z_\\alpha$ da distribuição padronizada escolhida, por exemplo $z_{5\\%}$ será igual a -1.645 se a distribuição padronizada for a $\\mathcal{N}(0,1)$ e ($\\textrm{ii}$) $\\sigma_p$ determinado por simulação histórica dos retornos do portfólio."
   ]
  },
  {
   "cell_type": "markdown",
   "metadata": {},
   "source": [
    "Iremos pois tentar encontrar em (5.3.1) uma distribuição analítica (e.g ```Normal```, ```T-Student```) que se ajuste bem à distribuição empírica dos retornos diários do portfólio já calculados em (5.1) por simulação histórica."
   ]
  },
  {
   "cell_type": "markdown",
   "metadata": {},
   "source": [
    "#### 5.3.1 Escolha da Distribuição Analítica"
   ]
  },
  {
   "cell_type": "markdown",
   "metadata": {},
   "source": [
    "Nota para os cálculos que se seguem: o 'ponto'```.``` aplica um operador (e.g. +, *, /, exp, log, sin,...) a todos os elementos de um vetor/matriz. \n",
    "\n",
    "Exemplo: sendo ```x = [1.0,2.0,3.0]```, tem-se:\n",
    "  * ```x.^2 = [1.0^2, 2.0^2, 3.0^2]```\n",
    "  * ```log.(x .+ 1.0) = [log(1.0)+1.0,log(2.0)+1.0,log(3.0)+1.0]```\n",
    "\n",
    "De referir ainda que, como é habitual em linguagens de programação, o ln(x) é calculado através da função ```log(x)```"
   ]
  },
  {
   "cell_type": "code",
   "execution_count": null,
   "metadata": {},
   "outputs": [],
   "source": [
    "mu = mean(RP)                 # média dos retornos do portfólio\n",
    "sigma = std(RP)               # desvio-padrão dos retornos do portfólio\n",
    "RP01 = (RP .- mu)./sigma;     # retornos do portfólio padronizados, com média = 0 e desvio-padrão = 1         "
   ]
  },
  {
   "cell_type": "code",
   "execution_count": null,
   "metadata": {},
   "outputs": [],
   "source": [
    "histogram(RP01, nbins=100, normed=true, label=\"Empírica Padronizada\")\n",
    "plot!(Normal(0,1), label = \"Normal(0,1)\")\n",
    "plot!(TDist(6), label = \"t-Student(6)\")"
   ]
  },
  {
   "cell_type": "code",
   "execution_count": null,
   "metadata": {},
   "outputs": [],
   "source": [
    "plot(TDist(6), label = \"t-Student(6)\")\n",
    "plot!(Normal(0,1), label = \"Normal(0,1)\")"
   ]
  },
  {
   "cell_type": "markdown",
   "metadata": {},
   "source": [
    "Conseguimos ter uma melhor visualização do que se passa nas caudas das distribuições através de um gráfico quantil-quantil (QQ). A função ```qqplot(Distribuição,X)```permite essa análise. Escolhemos analisar as distribuições Normal(0,1) e T-Student(g) com g = 5, 6, 7, 8, 9."
   ]
  },
  {
   "cell_type": "code",
   "execution_count": null,
   "metadata": {},
   "outputs": [],
   "source": [
    "plot(                             \n",
    "qqplot(Normal,   RP01, markersize=1, title = \"Normal\"),     # Normal(0,1)  vs. distribuição empírica padronizada\n",
    "qqplot(TDist(5), RP01, markersize=1, title = \"TDist(5)\"),   # T-Student(5) vs. distribuição empírica padronizada\n",
    "qqplot(TDist(6), RP01, markersize=1, title = \"TDist(6)\"),           \n",
    "qqplot(TDist(7), RP01, markersize=1, title = \"TDist(7)\"),\n",
    "qqplot(TDist(8), RP01, markersize=1, title = \"TDist(8)\"),\n",
    "qqplot(TDist(9), RP01, markersize=1, title = \"TDist(9)\")\n",
    ")"
   ]
  },
  {
   "cell_type": "code",
   "execution_count": null,
   "metadata": {},
   "outputs": [],
   "source": [
    "@manipulate for obs = 1:10\n",
    "    qqplot(TDist(obs), RP01,\n",
    "    markersize = 2, \n",
    "    title = \"Distribuição Emprírica vs. T-Student com $(obs) graus liberdade\",\n",
    "    legend = :bottomright,\n",
    "    xlabel = \"Distribuição T-Student($(obs))\", \n",
    "    ylabel = \"Distribuição Empírica\",\n",
    "    label = \"Observações\")\n",
    "end    \n",
    "# MOVER o cursor (obs) no topo do gráfico seguinte para variar os graus de liberdade da distribuição T-Student!"
   ]
  },
  {
   "cell_type": "markdown",
   "metadata": {},
   "source": [
    "#### 5.3.2 Cálculo do VaR a 5% e 1%"
   ]
  },
  {
   "cell_type": "code",
   "execution_count": null,
   "metadata": {},
   "outputs": [],
   "source": [
    "println(\"DEaR(5%) simulação histórica (sp) = \", - quantile(TDist(7),0.05) * sigma * VPortfolio , \" USD 1x10^6\")\n",
    "println(\"DEaR(1%) simulação histórica (sp) = \", - quantile(TDist(7),0.01) * sigma * VPortfolio , \" USD 1x10^6\")"
   ]
  },
  {
   "cell_type": "markdown",
   "metadata": {},
   "source": [
    "## 6. Análise de Stress "
   ]
  },
  {
   "cell_type": "markdown",
   "metadata": {},
   "source": [
    "Iremos analisar os cenários de stress correspondentes às (1%) piores perdas do portfolio. Depois de criarmos uma nova tabela ```TabelaRP``` apenas com os retornos do portfolio e respetivas datas, iremos identificar as datas em que as piores perdas ocorreram."
   ]
  },
  {
   "cell_type": "code",
   "execution_count": null,
   "metadata": {},
   "outputs": [],
   "source": [
    "TabelaRP = TimeArray(datas,RP,[:RP]); # Tabela temporal com os retornos simulados do portfólio (coluna :RP) e datas"
   ]
  },
  {
   "cell_type": "markdown",
   "metadata": {},
   "source": [
    "O passo seguinte será pois determinar para o portfólio quais os dias em que se verificaram retornos simulados $\\leq$ 1%-quantil"
   ]
  },
  {
   "cell_type": "code",
   "execution_count": null,
   "metadata": {},
   "outputs": [],
   "source": [
    "stress = TabelaRP[ findall(TabelaRP[:RP] .<= quantile(RP,0.01)) ]  "
   ]
  },
  {
   "cell_type": "markdown",
   "metadata": {},
   "source": [
    "Certamente o ano de 2018 teria sido bastante stressante para o portfólio. O pior dia foi 5 Fevereiro de 2018, com uma queda de -4.44%. Vamos tentar ver o que poderá ter acontecido de especial nesse dia, quer nos mercados NYSE e NASDAQ, quer nos próprios EUA."
   ]
  },
  {
   "cell_type": "markdown",
   "metadata": {},
   "source": [
    "Em 5 Fevereiro 2018, o indíce Dow caiu -4.6%: [Dow suffers worst one-day point fall in history](https://www.youtube.com/watch?v=GJMmK0sAYBk). Mas porque é que os mercados abruptamente cairam tanto nesse dia? Frequentemente não é possivel associar uma causa económica ou política direta aos eventos extremos de 'crash' nas bolsas de ações nos dias precisos em que ocorrem. \n",
    "\n",
    "Tal não será porém o caso do dia 10 Outubro 2018, em que se verificou uma queda de -2.99% no valor do portfolio: [World stock markets dive as Trump attacks 'crazy' US rate hikes](https://www.theguardian.com/business/2018/oct/11/asian-stock-markets-dive-as-trump-attacks-crazy-us-rate-hikes)."
   ]
  },
  {
   "cell_type": "markdown",
   "metadata": {},
   "source": [
    "## 7. Análise de Desempenho do Portfólio"
   ]
  },
  {
   "cell_type": "markdown",
   "metadata": {},
   "source": [
    "Vamos analisar o desempenho do portfolio face ao desempenho do benchmark escolhido. Medidas de desempenho têm de levar em conta não só o retorno obtido, mas também o risco associado ao investimento no portfólio. Uma medida muito utilizada é o rácio Sharpe, criado por William Sharpe um dos autores do CAPM. O rácio Sharpe ex-ante é definido da seguinte forma:\n",
    "\n",
    "\n",
    "$$S = \\frac{E[R-R_b]}{\\sqrt{\\mathrm{var}[R-R_b]}}$$\n",
    "\n",
    "onde $R$ é o retorno do portfólio e $R_b$ é o retorno do seu benchmark. Estamos contudo mais interessados na sua concretização empírica, o rácio Sharpe ex-post, que utiliza os retornos realizados e não o valor esperado de retornos futuros.\n",
    "Denotando os retornos em excesso do portfólio face ao benchmark (os quais podem ser negativos) por $X_i$,\n",
    "\n",
    "$$X_i = R_i-R_{bi}$$\n",
    "$$\\mu_x=\\tfrac{1}{N}\\sum_{i=1}^N X_i$$\n",
    "e\n",
    "$$S = \\frac{\\mu_x}{\\sqrt{\\tfrac{1}{N}\\sum_{i=1}^N (X_i-\\mu_x)^2}}$$\n",
    "onde normalmente se utiliza a variância da amostra."
   ]
  },
  {
   "cell_type": "markdown",
   "metadata": {},
   "source": [
    "### 8.1 Portfolio vs. S&P500"
   ]
  },
  {
   "cell_type": "markdown",
   "metadata": {},
   "source": [
    "O benchmark natural do portfólio será o índice S&P500:"
   ]
  },
  {
   "cell_type": "code",
   "execution_count": null,
   "metadata": {},
   "outputs": [],
   "source": [
    "X = RP .- R[:,2]                    # Vetor com os retornos em excesso do portfólio face ao S&P 500\n",
    "Sharpe = mean(X)/std(X)             # Notemos que mean(X) e std(X) são números e não vetores, daí não usarmos ./"
   ]
  },
  {
   "cell_type": "markdown",
   "metadata": {},
   "source": [
    "### 8.2 Portfolio vs. BT3m"
   ]
  },
  {
   "cell_type": "markdown",
   "metadata": {},
   "source": [
    "Utilizando agora aplicações em Bilhetes do Tesouro a 3 meses como benchmark do portfólio:"
   ]
  },
  {
   "cell_type": "code",
   "execution_count": null,
   "metadata": {},
   "outputs": [],
   "source": [
    "X_P = RP .- R[:,1]                  # Vetor com os retornos em excesso do portfólio face a BT3m\n",
    "Sharpe = mean(X_P)/std(X_P)"
   ]
  },
  {
   "cell_type": "code",
   "execution_count": null,
   "metadata": {},
   "outputs": [],
   "source": []
  }
 ],
 "metadata": {
  "@webio": {
   "lastCommId": "8f15f7e582824ab2a8dbac27315508ac",
   "lastKernelId": "054ed5b3-cfe9-457e-92d7-9b7ec1389029"
  },
  "kernelspec": {
   "display_name": "Julia 1.1.0",
   "language": "julia",
   "name": "julia-1.1"
  },
  "language_info": {
   "file_extension": ".jl",
   "mimetype": "application/julia",
   "name": "julia",
   "version": "1.1.0"
  }
 },
 "nbformat": 4,
 "nbformat_minor": 2
}
