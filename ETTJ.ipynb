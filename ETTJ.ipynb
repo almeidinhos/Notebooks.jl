{
 "cells": [
  {
   "cell_type": "markdown",
   "metadata": {},
   "source": [
    "(Carregar em >|Run para sucessivamente ir executando as células do notebook)"
   ]
  },
  {
   "cell_type": "markdown",
   "metadata": {},
   "source": [
    "## Instalar e Disponibilizar Aplicações Essenciais"
   ]
  },
  {
   "cell_type": "markdown",
   "metadata": {},
   "source": [
    "Utilização remota, e.g. Binder: \n",
    "\n",
    "  * Mantêr todos os # \n",
    "\n",
    "Se fôr a primeira utilização local deste notebook :\n",
    "  * Caso Julia Pro tenha sido instalada, apenas retirar os # na primeira e na segunda linha\n",
    "  * Caso contrário, retirar # em todas as linhas (ou apenas naquelas relativas a aplicações ainda não instaladas)"
   ]
  },
  {
   "cell_type": "code",
   "execution_count": null,
   "metadata": {},
   "outputs": [],
   "source": [
    "# import Pkg \n",
    "# Pkg.add(\"TimeSeries\")\n",
    "# Pkg.add(\"StatsPlots\")         \n",
    "# Pkg.add(\"Interact\")     "
   ]
  },
  {
   "cell_type": "code",
   "execution_count": null,
   "metadata": {},
   "outputs": [],
   "source": [
    "using TimeSeries, StatsPlots, Interact"
   ]
  },
  {
   "cell_type": "markdown",
   "metadata": {},
   "source": [
    "## 1. Definir Modelo de Nelson-Siegel-Svensson (NSS)"
   ]
  },
  {
   "cell_type": "markdown",
   "metadata": {},
   "source": [
    "### 1.1 Taxas Spot"
   ]
  },
  {
   "cell_type": "markdown",
   "metadata": {},
   "source": [
    "$$spot^{\\textit{NSS}}(m)= \\beta_0+\\beta_1\\frac{1-\\exp(-m/\\tau_1)}{m /\\tau_1} + \\beta_2 \\biggl(\\frac{1-\\exp(-m/\\tau_1)}{m/\\tau_1}-\\exp(-m/\\tau_1)\\biggr) + \\beta_3\\biggl(\\frac{1-\\exp(-m/\\tau_2)}{m/\\tau_2}-\\exp(-m/\\tau_2)\\biggr)$$"
   ]
  },
  {
   "cell_type": "markdown",
   "metadata": {},
   "source": [
    "Função: ```spot(tenores, coeficientes_nss)``` \n",
    "\n",
    "Exemplo: \n",
    "  * ```tenores =``` $[m_1, m_2,\\dots, m_6]$ ```= [1,3,5,7,10,15]```\n",
    "  * ```coeficientes_nss ``` serão lidos de um ficheiro"
   ]
  },
  {
   "cell_type": "code",
   "execution_count": null,
   "metadata": {},
   "outputs": [],
   "source": [
    "function spot(m,nss)           # (i) m representa os tenores (ii) nss, os coeficientes_nss [BETA0, BETA1,...,TAU2]\n",
    "    ntenores = size(m,1)       # ntenores = número de tenores a calcular \n",
    "    if size(nss,2) == 1        # se apenas uma observação, a matriz *nss* passa a vector com 7 linhas e 1 coluna!\n",
    "        ni = 1                 # ni = número de observações é 1 e não 7\n",
    "        nss = nss'             # ok, então também temos de transpôr \n",
    "    else\n",
    "        ni = size(nss,1)    \n",
    "    end  \n",
    "    s = zeros(ni,ntenores)\n",
    "    for j = 1:ntenores\n",
    "        for i = 1:ni   \n",
    "            s[i,j] = nss[i,1] + nss[i,2]*(1 - exp(-m[j]/nss[i,5]))/(m[j]/nss[i,5]) + \n",
    "            nss[i,3]*((1 - exp(-m[j]/nss[i,5]))/(m[j]/nss[i,5]) - exp(-m[j]/nss[i,5])) + \n",
    "            nss[i,4]*((1 - exp(-m[j]/nss[i,6]))/(m[j]/nss[i,6]) - exp(-m[j]/nss[i,6])) \n",
    "        end\n",
    "    end\n",
    "    return s = s /100           # Não apresentar taxas spot em percentagem\n",
    "end "
   ]
  },
  {
   "cell_type": "markdown",
   "metadata": {},
   "source": [
    "### 1.2 Taxas Forward"
   ]
  },
  {
   "cell_type": "markdown",
   "metadata": {},
   "source": [
    "$$forward^{\\textit{NSS}}(m)=\\beta_0+\\beta_1 \\exp(-m/\\tau_1) +\\beta_2 \\frac{m \\exp(-m/\\tau_1)}{\\tau_1}  +\\beta_3 \\frac{m \\exp(-m/\\tau_2)}{\\tau_2}$$"
   ]
  },
  {
   "cell_type": "code",
   "execution_count": null,
   "metadata": {},
   "outputs": [],
   "source": [
    "function forward(m,nss)         \n",
    "    ntenores = size(m,1)       \n",
    "    if size(nss,2) == 1      \n",
    "        ni = 1                \n",
    "        nss = nss'      \n",
    "    else\n",
    "        ni = size(nss,1)     \n",
    "    end  \n",
    "    f = zeros(ni,ntenores)\n",
    "    for j = 1:ntenores\n",
    "        for i = 1:ni   \n",
    "            f[i,j] =  nss[i,1] + nss[i,2]*exp(-m[j]/nss[i,5]) + \n",
    "            nss[i,3]*(m[j]/nss[i,5])*exp(-m[j]/nss[i,5]) + \n",
    "            nss[i,4]*(m[j]/nss[i,6])*exp(-m[j]/nss[i,6])\n",
    "        end\n",
    "    end\n",
    "    return f = f /100           # Não apresentar taxas forward em percentagem\n",
    "end "
   ]
  },
  {
   "cell_type": "markdown",
   "metadata": {},
   "source": [
    "## 2. Obter Coeficientes do Modelo NSS para Emissões AAA de Dívida Pública em EUR"
   ]
  },
  {
   "cell_type": "markdown",
   "metadata": {},
   "source": [
    "Iremos ler os coeficientes do modelo de Nelson-Siegel-Svensson para dívida pública soberana AAA em Euros, calculados pelo Banco Central Europeu (BCE). Estão disponiveis no ficheiro ```ETTJ.csv```, desde o início em 2004-09-06 até 2019-03-28. Podemos também obter estes dados a partir da webpage do BCE.   "
   ]
  },
  {
   "cell_type": "code",
   "execution_count": null,
   "metadata": {},
   "outputs": [],
   "source": [
    "TabelaNSS = readtimearray(\"ETTJ.csv\")"
   ]
  },
  {
   "cell_type": "markdown",
   "metadata": {},
   "source": [
    "Por conveniência, iremos guardar as datas das observações no vetor ```datas(3726x1)``` e criar uma matriz ```MatrizNSS(3726x6)``` apenas com os valores da tabela"
   ]
  },
  {
   "cell_type": "code",
   "execution_count": null,
   "metadata": {},
   "outputs": [],
   "source": [
    "datas = timestamp(TabelaNSS)\n",
    "MatrizNSS = values(TabelaNSS)"
   ]
  },
  {
   "cell_type": "markdown",
   "metadata": {},
   "source": [
    "## 3. Evolução da Estrutura Temporal Taxas Juro"
   ]
  },
  {
   "cell_type": "markdown",
   "metadata": {},
   "source": [
    "### 3.1 Calcular Taxas Spot e Forward pelo Modelo NSS  "
   ]
  },
  {
   "cell_type": "code",
   "execution_count": null,
   "metadata": {},
   "outputs": [],
   "source": [
    "tenores = [0.1,0.2,0.3,0.4,0.5,0.6,0.8,1.0,1.5,2.0,2.5,3.0,4.0,4.5,5,6,7,8,9,10,11,12,14,16,18,20,22,24,26,28,30];"
   ]
  },
  {
   "cell_type": "code",
   "execution_count": null,
   "metadata": {},
   "outputs": [],
   "source": [
    "spot_nss = spot(tenores,MatrizNSS)   "
   ]
  },
  {
   "cell_type": "code",
   "execution_count": null,
   "metadata": {},
   "outputs": [],
   "source": [
    "forward_nss = forward(tenores,MatrizNSS)  "
   ]
  },
  {
   "cell_type": "markdown",
   "metadata": {},
   "source": [
    "### 3.2 Visualizar a Estrutura Temporal Taxas de Juro Spot e Forward na Data Mais Recente (dos dados)"
   ]
  },
  {
   "cell_type": "code",
   "execution_count": null,
   "metadata": {},
   "outputs": [],
   "source": [
    "nobs = size(spot_nss,1)                        # Número de observações (será utilizado no gráfico interativo)\n",
    "ntenores = size(tenores,1) \n",
    "plot(tenores, spot_nss[nobs,1:ntenores],\n",
    "    title = \"Estrutura Temporal de Taxas de Juro em $(datas[nobs,1])\",\n",
    "    xlabel = \"Tenores (em anos)\", \n",
    "    xticks = 0:5:30,\n",
    "    ylabel = \"Dívida Pública AAA na Eurozona\", \n",
    "    ylims = (-0.01,0.015),\n",
    "    yticks = -0.01:0.005:0.015,\n",
    "    label = [\"spot\"])\n",
    "plot!(tenores, forward_nss[nobs,1:ntenores],  legend = :bottomright,  label = [\"spot\", \"forward\"])"
   ]
  },
  {
   "cell_type": "markdown",
   "metadata": {},
   "source": [
    "### 3.3 Evolução da Estrutura Temporal de Taxas de Juro de Acordo com o Modelo NSS"
   ]
  },
  {
   "cell_type": "code",
   "execution_count": null,
   "metadata": {},
   "outputs": [],
   "source": [
    "@manipulate for obs = 1:nobs, curva = [:spot, :forward]\n",
    "    if curva == :spot\n",
    "        ettj = spot_nss\n",
    "        labelv = [\"spot\"]\n",
    "    else\n",
    "        ettj = forward_nss\n",
    "        labelv = [\"forward\"]\n",
    "    end\n",
    "    plot(tenores, ettj[obs,1:ntenores], \n",
    "     label = labelv, \n",
    "     legend = :bottomright,\n",
    "     xlabel = \"Tenores (em anos)\", \n",
    "     xticks = 0:5:30,\n",
    "     ylabel = \"Taxas dívida pública AAA na Eurozona\", \n",
    "     ylims = (-0.01,0.06),\n",
    "     yticks = -0.01:0.01:0.06,\n",
    "     title = \"Estrutura Temporal de Taxas de Juro em $(datas[obs,1])\")\n",
    "end\n",
    "# No gráfico seguinte: teclar spot/forward para selecionar a curva, mover o cursor no topo para selecionar a data "
   ]
  },
  {
   "cell_type": "markdown",
   "metadata": {},
   "source": [
    "### 3.4 Instabilidade na Estimativa dos Parâmetros do Modelo NSS "
   ]
  },
  {
   "cell_type": "code",
   "execution_count": null,
   "metadata": {},
   "outputs": [],
   "source": [
    "p1 = plot(MatrizNSS[:,1],ylabel = \"\\\\beta_0\")\n",
    "p2 = plot(MatrizNSS[:,2],ylabel = \"\\\\beta_1\")\n",
    "p3 = plot(MatrizNSS[:,3],ylabel = \"\\\\beta_2\")\n",
    "p4 = plot(MatrizNSS[:,4],ylabel = \"\\\\beta_3\")\n",
    "p5 = plot(MatrizNSS[:,5],ylabel = \"\\\\tau_1\")\n",
    "p6 = plot(MatrizNSS[:,6],ylabel = \"\\\\tau_2\")\n",
    "\n",
    "plot(p1,p2,p3,p4,p5,p6,layout=(3,2), legend=false)"
   ]
  },
  {
   "cell_type": "code",
   "execution_count": null,
   "metadata": {},
   "outputs": [],
   "source": []
  }
 ],
 "metadata": {
  "@webio": {
   "lastCommId": "1707636a84624e11a1d95526d1c19708",
   "lastKernelId": "18ab0231-a15f-474c-8f23-dc1ae301807e"
  },
  "kernelspec": {
   "display_name": "Julia 1.1.0",
   "language": "julia",
   "name": "julia-1.1"
  },
  "language_info": {
   "file_extension": ".jl",
   "mimetype": "application/julia",
   "name": "julia",
   "version": "1.1.0"
  }
 },
 "nbformat": 4,
 "nbformat_minor": 2
}
